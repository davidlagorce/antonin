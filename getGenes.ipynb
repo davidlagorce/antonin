{
 "cells": [
  {
   "cell_type": "code",
   "execution_count": null,
   "id": "0269595f-0838-486e-9ac1-f4067c7d31bb",
   "metadata": {},
   "outputs": [],
   "source": [
    "import xmltodict\n",
    "import json\n",
    "\n",
    "\n",
    "def getGenesData(geneXML):\n",
    "    \"\"\"\n",
    "    Read an xml return a dict with xmltodict package\n",
    "    :return: xml parsed as dict\n",
    "    \"\"\"\n",
    "    with open(geneXML, \"r\", encoding='ISO-8859-1') as ini:\n",
    "        xml_dict = xmltodict.parse(ini.read())\n",
    "    return xml_dict\n",
    "\n",
    "def feedMatrixGenes(matrixGenes , orpha , symbol):\n",
    "    if not orpha in matrixGenes:\n",
    "        matrixGenes['ORPHA:' + orpha] = [symbol]\n",
    "    else:\n",
    "        matrixGenes['ORPHA:' + orpha].append(symbol)\n",
    "    return matrixGenes\n",
    "\n",
    "def getGenesMatrix(geneData):\n",
    "\n",
    "    matrixGenes = {}\n",
    "    for disorder in geneData[\"JDBOR\"][\"DisorderList\"][\"Disorder\"]:\n",
    "        orpha = disorder['OrphaCode']\n",
    "        if isinstance( disorder['DisorderGeneAssociationList']['DisorderGeneAssociation'], dict):\n",
    "            matrixGenes = feedMatrixGenes(matrixGenes , orpha , disorder['DisorderGeneAssociationList']['DisorderGeneAssociation']['Gene']['Symbol'])\n",
    "        else:\n",
    "            for DisorderGeneAssociation in disorder['DisorderGeneAssociationList']['DisorderGeneAssociation']:\n",
    "                matrixGenes = feedMatrixGenes(matrixGenes , orpha , DisorderGeneAssociation['Gene']['Symbol'])\n",
    "    return matrixGenes\n",
    "\n",
    "\n",
    "if __name__ == \"__main__\":\n",
    "\n",
    "    genesData = getGenesData('en_product6.xml')\n",
    "    matrixGenes = getGenesMatrix(geneData)\n",
    "    \n",
    "    print(json.dumps(matrixGenes, indent=2))"
   ]
  }
 ],
 "metadata": {
  "kernelspec": {
   "display_name": "Python 3 (ipykernel)",
   "language": "python",
   "name": "python3"
  },
  "language_info": {
   "codemirror_mode": {
    "name": "ipython",
    "version": 3
   },
   "file_extension": ".py",
   "mimetype": "text/x-python",
   "name": "python",
   "nbconvert_exporter": "python",
   "pygments_lexer": "ipython3",
   "version": "3.8.13"
  }
 },
 "nbformat": 4,
 "nbformat_minor": 5
}
